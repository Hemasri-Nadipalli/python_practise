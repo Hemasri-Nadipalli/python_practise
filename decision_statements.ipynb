{
  "nbformat": 4,
  "nbformat_minor": 0,
  "metadata": {
    "colab": {
      "name": "decision statements",
      "provenance": [],
      "collapsed_sections": [],
      "authorship_tag": "ABX9TyOR1Yf+we6IIo0cJEgTnZQl",
      "include_colab_link": true
    },
    "kernelspec": {
      "name": "python3",
      "display_name": "Python 3"
    },
    "language_info": {
      "name": "python"
    }
  },
  "cells": [
    {
      "cell_type": "markdown",
      "metadata": {
        "id": "view-in-github",
        "colab_type": "text"
      },
      "source": [
        "<a href=\"https://colab.research.google.com/github/Hemasri-Nadipalli/python_practise/blob/main/decision_statements.ipynb\" target=\"_parent\"><img src=\"https://colab.research.google.com/assets/colab-badge.svg\" alt=\"Open In Colab\"/></a>"
      ]
    },
    {
      "cell_type": "markdown",
      "source": [
        "Find out the person is eligible for voting or not."
      ],
      "metadata": {
        "id": "d53PGXCiPYAw"
      }
    },
    {
      "cell_type": "code",
      "source": [
        "a=int(input(\"enter age of a person\"))\n",
        "if(a>=18):\n",
        " print(\"eligible for voting\")\n",
        "else: \n",
        "  print(\"not eligible for voting\")\n",
        "  #dynamic \n",
        "  #given the values is staic"
      ],
      "metadata": {
        "colab": {
          "base_uri": "https://localhost:8080/"
        },
        "id": "b6maAzPHPlU5",
        "outputId": "d7a4dd15-8a39-401c-87c4-ed0a12b92587"
      },
      "execution_count": null,
      "outputs": [
        {
          "output_type": "stream",
          "name": "stdout",
          "text": [
            "enter age of a person66\n",
            "eligible for voting\n"
          ]
        }
      ]
    },
    {
      "cell_type": "markdown",
      "source": [
        "### Check whether the triangle is equilateral, isosceles, or scalene triangle.\n"
      ],
      "metadata": {
        "id": "twW_x_UDXaah"
      }
    },
    {
      "cell_type": "code",
      "source": [
        "a=int(input(\"enter a side\"))\n",
        "b=int(input(\"enter another side\"))\n",
        "c=int(input(\"enter another side\"))\n",
        "if(a==b==c):\n",
        "    print(\"equilateral\")\n",
        "elif(a!=b==c)and (a==b!=c):\n",
        "    print(\"isosceles\")\n",
        "elif(a!=b!=c):\n",
        "    print(\"scalene\")\n",
        "else:\n",
        "    print(\"it is not a triangle\")\n"
      ],
      "metadata": {
        "colab": {
          "base_uri": "https://localhost:8080/"
        },
        "id": "gFsUuk0iXlMA",
        "outputId": "5e960b8f-c541-42f1-bf9f-af93bee3827b"
      },
      "execution_count": 14,
      "outputs": [
        {
          "output_type": "stream",
          "name": "stdout",
          "text": [
            "enter a side6\n",
            "enter another side8\n",
            "enter another side90\n",
            "scalene\n"
          ]
        }
      ]
    },
    {
      "cell_type": "markdown",
      "source": [
        "###Check whether entered year is a leap year or not\n"
      ],
      "metadata": {
        "id": "kLMTjFPuZ39W"
      }
    },
    {
      "cell_type": "code",
      "source": [
        "a=int(input(\"enter year\"))\n",
        "if(a%4==0):\n",
        "   print(\"leap year\")\n",
        "else:\n",
        "  print(\"not a leap year\")"
      ],
      "metadata": {
        "colab": {
          "base_uri": "https://localhost:8080/"
        },
        "id": "qcySUrmAZ8zx",
        "outputId": "89363d5b-ab7c-4780-f224-57c1da3e0fe2"
      },
      "execution_count": 15,
      "outputs": [
        {
          "output_type": "stream",
          "name": "stdout",
          "text": [
            "enter year2009\n",
            "not a leap year\n"
          ]
        }
      ]
    },
    {
      "cell_type": "markdown",
      "source": [
        "Find minimum among three numbers"
      ],
      "metadata": {
        "id": "dhL_TV7haZvJ"
      }
    },
    {
      "cell_type": "code",
      "source": [
        "a=int(input(\"enter a number\"))\n",
        "b=int(input(\"enter another number\"))\n",
        "c=int(input(\"enter another number\"))\n",
        "if (a<b) and (a<c):\n",
        "    print(\"a is min\")\n",
        "elif(b<a) and (b<c):\n",
        "    print(\"b is min\")\n",
        "else:\n",
        "    print(\"c is min\")"
      ],
      "metadata": {
        "colab": {
          "base_uri": "https://localhost:8080/"
        },
        "id": "-qOxR_VCaanY",
        "outputId": "1137bc6c-3e62-4c8e-bbc3-c809dc32004f"
      },
      "execution_count": 16,
      "outputs": [
        {
          "output_type": "stream",
          "name": "stdout",
          "text": [
            "enter a number6\n",
            "enter another number9\n",
            "enter another number10\n",
            "a is min\n"
          ]
        }
      ]
    },
    {
      "cell_type": "markdown",
      "source": [
        "Check whether a number is divisible by 5 and 11 or not"
      ],
      "metadata": {
        "id": "1g8HA9Oia86y"
      }
    },
    {
      "cell_type": "code",
      "source": [
        "a=int(input(\"enter a number\"))\n",
        "b=int(input(\"enter another number\"))\n",
        "c=int(input(\"enter another number\"))\n",
        "if (a>b) and (a>c):\n",
        "    print(\"a is max\")\n",
        "elif(b>a) and (b>c):\n",
        "    print(\"b is max\")\n",
        "else:\n",
        "    print(\"c is max\")"
      ],
      "metadata": {
        "colab": {
          "base_uri": "https://localhost:8080/"
        },
        "id": "RjOkRImxRze4",
        "outputId": "ccbe396b-11e5-47e0-8ff7-068193859309"
      },
      "execution_count": 9,
      "outputs": [
        {
          "output_type": "stream",
          "name": "stdout",
          "text": [
            "enter a number6\n",
            "enter another number7\n",
            "enter another number9\n",
            "c is max\n"
          ]
        }
      ]
    },
    {
      "cell_type": "code",
      "source": [
        "a=int(input(\"enter number\"))\n",
        "if(a%5==0) and (a%11==0):\n",
        "   print(\"divisible\")\n",
        "else:\n",
        "  print(\"not divisble\")"
      ],
      "metadata": {
        "colab": {
          "base_uri": "https://localhost:8080/"
        },
        "id": "zyIaQrubdh2K",
        "outputId": "7250e354-a545-42ce-beb3-26f4e9d1de85"
      },
      "execution_count": 18,
      "outputs": [
        {
          "output_type": "stream",
          "name": "stdout",
          "text": [
            "enter number67\n",
            "not divisble\n"
          ]
        }
      ]
    },
    {
      "cell_type": "markdown",
      "source": [
        "### give 5 subjects marks and predict highest among 5 subjects "
      ],
      "metadata": {
        "id": "T_ZvtDdsT_8K"
      }
    },
    {
      "cell_type": "code",
      "source": [
        "a=int(input(\"enter marks of first subject\"))\n",
        "b=int(input(\"enter marks of second suject\"))\n",
        "c=int(input(\"enter marks of third subject\"))\n",
        "d=int(input(\"enter marks of fourth subject\"))\n",
        "e=int(input(\"enter marks of fifth subject\"))\n",
        "if (a>b) and (a>c) and (a>d) and (a>e):\n",
        "    print(\"a is highest mark\")\n",
        "elif(b>a) and (b>c) and (b>d) and (b>e):\n",
        "    print(\"b is highest mark\")\n",
        "elif(c>a) and (c>b) and (c>d) and (c>e):\n",
        "    print(\"c is highest mark\")\n",
        "elif(d>a) and (d>b) and (d>c) and (d>e):\n",
        "    print(\"d is highest mark\")\n",
        "else:78\n",
        "    print(\"e is highest rank\")"
      ],
      "metadata": {
        "colab": {
          "base_uri": "https://localhost:8080/"
        },
        "id": "igP7uE_UUH2v",
        "outputId": "70f20637-ef93-4398-e4bf-ff7a70caddbe"
      },
      "execution_count": 11,
      "outputs": [
        {
          "output_type": "stream",
          "name": "stdout",
          "text": [
            "enter marks of first subject7\n",
            "enter marks of second suject9\n",
            "enter marks of third subject10\n",
            "enter marks of fourth subject90\n",
            "enter marks of fifth subject89\n",
            "d is highest mark\n"
          ]
        }
      ]
    }
  ]
}